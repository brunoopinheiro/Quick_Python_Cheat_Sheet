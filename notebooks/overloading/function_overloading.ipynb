{
 "cells": [
  {
   "cell_type": "markdown",
   "metadata": {},
   "source": [
    "# Function and Methods Overloading in Python 3"
   ]
  },
  {
   "cell_type": "markdown",
   "metadata": {},
   "source": [
    "> This notebook is a simple example of how to overload functions and methods in Python 3. The base idea is to create a function or method that can receive different types of arguments and return different results based on the type of the arguments.\n",
    "\n",
    "> Most of this notebook's content was based on the article by **Pawel Dudziniski**, [Function and Method Overloading in Python](https://medium.com/@paweldudzinski/functions-and-methods-overloading-in-python-3-9409233af5d2)."
   ]
  },
  {
   "cell_type": "markdown",
   "metadata": {},
   "source": [
    "Functions overloading in Python is not possible in the same way as in other languages like C++ or Java. In Python, you can't define two functions with the same name. However, you can use the `@singledispatch` decorator from the `functools` module to create a function that can receive different types of arguments and return different results based on the type of the arguments. This can save us from ugly _ifology_ or class type checking to execute different code that depends on an `isinstance` function result."
   ]
  },
  {
   "cell_type": "markdown",
   "metadata": {},
   "source": [
    "Let's consider a simple class that represents a vector with possibility of getting item by index (code Python 3.10 compliant):"
   ]
  },
  {
   "cell_type": "code",
   "execution_count": 1,
   "metadata": {},
   "outputs": [],
   "source": [
    "class Vector:\n",
    "    def __init__(self, components: list | None = None) -> None:\n",
    "        self._components = components or []\n",
    "\n",
    "    def __getitem__(self, index: int) -> list:\n",
    "        return self._components[index]"
   ]
  },
  {
   "cell_type": "markdown",
   "metadata": {},
   "source": [
    "We can create a `Vector` and we can get an item by index:"
   ]
  },
  {
   "cell_type": "code",
   "execution_count": 2,
   "metadata": {},
   "outputs": [
    {
     "data": {
      "text/plain": [
       "3"
      ]
     },
     "execution_count": 2,
     "metadata": {},
     "output_type": "execute_result"
    }
   ],
   "source": [
    "vector = Vector(components=[0, 1, 2, 3, 4])\n",
    "vector[3]"
   ]
  },
  {
   "cell_type": "markdown",
   "metadata": {},
   "source": [
    "But what about slicing?"
   ]
  },
  {
   "cell_type": "code",
   "execution_count": 3,
   "metadata": {},
   "outputs": [
    {
     "name": "stdout",
     "output_type": "stream",
     "text": [
      "[2, 3] <class 'list'>\n"
     ]
    }
   ],
   "source": [
    "vector_slice = vector[2:4]\n",
    "print(vector_slice, type(vector_slice))"
   ]
  },
  {
   "cell_type": "markdown",
   "metadata": {},
   "source": [
    "Since we implemented the `__getitem__` method, Python can figure how to get a slice from the **Vector** object. But our `vector_slice` is a **list**, but we want a slice of a **Vector** to be a **Vector** too. We can implement the `__getitem__` method to return a **Vector** object when a slice is requested:"
   ]
  },
  {
   "cell_type": "code",
   "execution_count": 4,
   "metadata": {},
   "outputs": [],
   "source": [
    "from typing import Union\n",
    "\n",
    "\n",
    "class Vector:\n",
    "    def __init__(self, components: list | None = None) -> None:\n",
    "        self._components = components\n",
    "\n",
    "    def __getitem__(\n",
    "        self,\n",
    "        index: Union[int, slice],\n",
    "    ) -> Union[list, Vector]:\n",
    "        _cls = type(self)\n",
    "        if isinstance(index, slice):\n",
    "            return _cls(components=self._components[index])\n",
    "        elif isinstance(index, int):\n",
    "            return self._components[index]\n",
    "        else:\n",
    "            raise TypeError('list indices must be integers.')\n"
   ]
  },
  {
   "cell_type": "markdown",
   "metadata": {},
   "source": [
    "We need to check if `index` is `slice` or `int` and if it is a `slice`, we need to return a new `Vector` object with the slice of the `self._vector` list. We can use the `isinstance` function to check the type of the `index` argument.\n",
    "\n",
    "But that kind of code is unreadable and confusing, and lets agree that not very pythonic.\n",
    "\n",
    "It seems to be a good use case to use function overloading (or method in this very case), so we caould have separate methods that handles different types of `index` parameter. Code refactoring to meet the <u>single responsability principle</u> is always a way to go."
   ]
  },
  {
   "cell_type": "markdown",
   "metadata": {},
   "source": [
    "## Function Overloading\n",
    "\n",
    "The `@singledispatch` decorator allows us to create a function that can receive different types of arguments and return different results based on the type of the arguments. The `@singledispatch` decorator is a generic function dispatcher that allows you to register a function to be called for different types of objects."
   ]
  },
  {
   "cell_type": "code",
   "execution_count": 5,
   "metadata": {},
   "outputs": [],
   "source": [
    "from functools import singledispatch\n",
    "\n",
    "\n",
    "class Dog:\n",
    "    pass\n",
    "\n",
    "\n",
    "class Cat:\n",
    "    pass\n",
    "\n",
    "\n",
    "class Horse:\n",
    "    pass\n",
    "\n",
    "\n",
    "@singledispatch\n",
    "def make_sound(animal: object) -> str:\n",
    "    NotImplementedError('Type is not supported')\n",
    "\n",
    "\n",
    "@make_sound.register\n",
    "def _(animal: Dog) -> str:\n",
    "    return 'Bark'\n",
    "\n",
    "@make_sound.register\n",
    "def _(animal: Cat) -> str:\n",
    "    return 'Meow'\n",
    "\n",
    "@make_sound.register\n",
    "def _(animal: Horse) -> str:\n",
    "    return \"Neigh\"\n"
   ]
  },
  {
   "cell_type": "code",
   "execution_count": 6,
   "metadata": {},
   "outputs": [
    {
     "name": "stdout",
     "output_type": "stream",
     "text": [
      "Bark\n",
      "Meow\n",
      "Neigh\n"
     ]
    }
   ],
   "source": [
    "dog = Dog()\n",
    "cat = Cat()\n",
    "horse = Horse()\n",
    "\n",
    "print(make_sound(dog))\n",
    "print(make_sound(cat))\n",
    "print(make_sound(horse))"
   ]
  },
  {
   "cell_type": "markdown",
   "metadata": {},
   "source": [
    "We have three simple classes that represents animals. We want to write a function that will return a sound for a given animal. We could do it by checking instance of an animal parameter and returning proper string in one function. But this is a great use case to overload the `make_sound` function.\n",
    "\n",
    "First we implement an interface and decorate it with a `@singledispatch` that lives in the `functools` module. The we write as much `_` functions as many cases we need to cover, and decorate each with `@<fun_name>.register`. The implementation for each individual function may vary significantly.\n",
    "\n",
    "For function overloading we use a single `@singledispatch` decorator, for instance methods there's a `@singledispatchmethod` decorator. In `Vector` case we have a class with a dunder method to overload, so we will use the second approach."
   ]
  },
  {
   "cell_type": "code",
   "execution_count": 23,
   "metadata": {},
   "outputs": [],
   "source": [
    "from functools import singledispatchmethod\n",
    "\n",
    "\n",
    "class Vector:\n",
    "    def __init__(self, components: list | None = None) -> None:\n",
    "        self._components = components or []\n",
    "\n",
    "    @singledispatchmethod\n",
    "    def __getitem__(self, index: object) -> object:\n",
    "        raise NotImplementedError('Unsupported type')\n",
    "\n",
    "    @__getitem__.register\n",
    "    def _(self, index: int) -> int:\n",
    "        return self._components[index]\n",
    "\n",
    "    @__getitem__.register\n",
    "    def _(self, index: slice) -> Vector:\n",
    "        return Vector(components=self._components[index])\n",
    "\n",
    "    def __str__(self) -> str:\n",
    "        return ', '.join(str(ele) for ele in self._components)\n"
   ]
  },
  {
   "cell_type": "code",
   "execution_count": 24,
   "metadata": {},
   "outputs": [
    {
     "data": {
      "text/plain": [
       "3"
      ]
     },
     "execution_count": 24,
     "metadata": {},
     "output_type": "execute_result"
    }
   ],
   "source": [
    "vector = Vector(components=[0, 1, 2, 3, 4])\n",
    "vector[3]"
   ]
  },
  {
   "cell_type": "code",
   "execution_count": 26,
   "metadata": {},
   "outputs": [
    {
     "name": "stdout",
     "output_type": "stream",
     "text": [
      "[2, 3] <class '__main__.Vector'>\n"
     ]
    }
   ],
   "source": [
    "vector_slice = vector[2:4]\n",
    "print(f\"[{vector_slice}]\", type(vector_slice))"
   ]
  }
 ],
 "metadata": {
  "kernelspec": {
   "display_name": "base",
   "language": "python",
   "name": "python3"
  },
  "language_info": {
   "codemirror_mode": {
    "name": "ipython",
    "version": 3
   },
   "file_extension": ".py",
   "mimetype": "text/x-python",
   "name": "python",
   "nbconvert_exporter": "python",
   "pygments_lexer": "ipython3",
   "version": "3.12.2"
  }
 },
 "nbformat": 4,
 "nbformat_minor": 2
}
