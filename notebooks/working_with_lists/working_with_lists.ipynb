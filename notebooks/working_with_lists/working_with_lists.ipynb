{
 "cells": [
  {
   "cell_type": "markdown",
   "metadata": {},
   "source": [
    "# Working With Lists"
   ]
  },
  {
   "cell_type": "markdown",
   "metadata": {},
   "source": [
    "### 1. Creating a List\n",
    "To create a list:"
   ]
  },
  {
   "cell_type": "code",
   "execution_count": 1,
   "metadata": {},
   "outputs": [
    {
     "name": "stdout",
     "output_type": "stream",
     "text": [
      "['Earth', 'Air', 'Fire', 'Water']\n",
      "<class 'list'>\n"
     ]
    }
   ],
   "source": [
    "elements = ['Earth', 'Air', 'Fire', 'Water']\n",
    "print(elements)\n",
    "print(type(elements))"
   ]
  },
  {
   "cell_type": "markdown",
   "metadata": {},
   "source": [
    "### 2. Appending to a List\n",
    "To append a new element to the end of a list:"
   ]
  },
  {
   "cell_type": "code",
   "execution_count": 2,
   "metadata": {},
   "outputs": [
    {
     "name": "stdout",
     "output_type": "stream",
     "text": [
      "['Earth', 'Air', 'Fire', 'Water', 'Aether']\n"
     ]
    }
   ],
   "source": [
    "elements.append('Aether')\n",
    "\n",
    "print(elements)"
   ]
  },
  {
   "cell_type": "markdown",
   "metadata": {},
   "source": [
    "### 3. Inserting into a List\n",
    "To insert an element at a specific position in the list:"
   ]
  },
  {
   "cell_type": "code",
   "execution_count": 3,
   "metadata": {},
   "outputs": [
    {
     "name": "stdout",
     "output_type": "stream",
     "text": [
      "['Earth', 'Spirit', 'Air', 'Fire', 'Water', 'Aether']\n"
     ]
    }
   ],
   "source": [
    "# Insert 'Spirit' at index 1\n",
    "elements.insert(1, 'Spirit')\n",
    "\n",
    "print(elements)"
   ]
  },
  {
   "cell_type": "markdown",
   "metadata": {},
   "source": [
    "### 4. Removing from a List\n",
    "To remove an element by value from the list:"
   ]
  },
  {
   "cell_type": "code",
   "execution_count": 4,
   "metadata": {},
   "outputs": [
    {
     "name": "stdout",
     "output_type": "stream",
     "text": [
      "['Spirit', 'Air', 'Fire', 'Water', 'Aether']\n"
     ]
    }
   ],
   "source": [
    "elements.remove('Earth') # Removes the first occurrence of 'Earth'\n",
    "\n",
    "print(elements)"
   ]
  },
  {
   "cell_type": "markdown",
   "metadata": {},
   "source": [
    "### 5. Popping an Element from a List\n",
    "To remove and return an element at a given index (default is the last item):"
   ]
  },
  {
   "cell_type": "code",
   "execution_count": 5,
   "metadata": {},
   "outputs": [
    {
     "name": "stdout",
     "output_type": "stream",
     "text": [
      "Aether\n",
      "['Spirit', 'Air', 'Fire', 'Water']\n"
     ]
    }
   ],
   "source": [
    "last_element = elements.pop()\n",
    "\n",
    "print(last_element)\n",
    "print(elements)"
   ]
  },
  {
   "cell_type": "markdown",
   "metadata": {},
   "source": [
    "### 6. Finding the Index of an Element\n",
    "To find the index of the first occurrence of an element:"
   ]
  },
  {
   "cell_type": "code",
   "execution_count": 7,
   "metadata": {},
   "outputs": [
    {
     "name": "stdout",
     "output_type": "stream",
     "text": [
      "1\n",
      "['Spirit', 'Air', 'Fire', 'Water']\n",
      "Air\n"
     ]
    }
   ],
   "source": [
    "index_of_air = elements.index('Air')\n",
    "\n",
    "print(index_of_air)\n",
    "print(elements)\n",
    "print(elements[index_of_air])"
   ]
  },
  {
   "cell_type": "markdown",
   "metadata": {},
   "source": [
    "### 7. List Slicing\n",
    "To slice a list, obtaining a sub-list:"
   ]
  },
  {
   "cell_type": "code",
   "execution_count": 8,
   "metadata": {},
   "outputs": [
    {
     "name": "stdout",
     "output_type": "stream",
     "text": [
      "['Air', 'Fire', 'Water']\n"
     ]
    }
   ],
   "source": [
    "# Get elements from index 1 to 3\n",
    "sub_elements = elements[1:4]\n",
    "\n",
    "print(sub_elements)"
   ]
  },
  {
   "cell_type": "markdown",
   "metadata": {},
   "source": [
    "### 8. List Comprehension\n",
    "To create a new list by applying an expression to each element of an existing one:"
   ]
  },
  {
   "cell_type": "code",
   "execution_count": 9,
   "metadata": {},
   "outputs": [
    {
     "name": "stdout",
     "output_type": "stream",
     "text": [
      "[6, 3, 4, 5]\n",
      "<class 'list'>\n"
     ]
    }
   ],
   "source": [
    "# Create a new list with lengths of each element\n",
    "lengths = [len(element) for element in elements]\n",
    "\n",
    "print(lengths)\n",
    "print(type(lengths))"
   ]
  },
  {
   "cell_type": "markdown",
   "metadata": {},
   "source": [
    "### 9. Sorting a List\n",
    "To sort a list in ascending order (in-place):"
   ]
  },
  {
   "cell_type": "code",
   "execution_count": 10,
   "metadata": {},
   "outputs": [
    {
     "name": "stdout",
     "output_type": "stream",
     "text": [
      "['Air', 'Fire', 'Spirit', 'Water']\n",
      "[3, 4, 5, 6]\n"
     ]
    }
   ],
   "source": [
    "elements.sort()\n",
    "lengths.sort()\n",
    "\n",
    "print(elements)\n",
    "print(lengths)"
   ]
  },
  {
   "cell_type": "markdown",
   "metadata": {},
   "source": [
    "### 10. Reversing a List\n",
    "To reverse the elements of a list in-place:"
   ]
  },
  {
   "cell_type": "code",
   "execution_count": 11,
   "metadata": {},
   "outputs": [
    {
     "name": "stdout",
     "output_type": "stream",
     "text": [
      "['Water', 'Spirit', 'Fire', 'Air']\n",
      "[6, 5, 4, 3]\n"
     ]
    }
   ],
   "source": [
    "elements.reverse()\n",
    "lengths.reverse()\n",
    "\n",
    "print(elements)\n",
    "print(lengths)"
   ]
  }
 ],
 "metadata": {
  "kernelspec": {
   "display_name": ".venv",
   "language": "python",
   "name": "python3"
  },
  "language_info": {
   "codemirror_mode": {
    "name": "ipython",
    "version": 3
   },
   "file_extension": ".py",
   "mimetype": "text/x-python",
   "name": "python",
   "nbconvert_exporter": "python",
   "pygments_lexer": "ipython3",
   "version": "3.12.0"
  }
 },
 "nbformat": 4,
 "nbformat_minor": 2
}
