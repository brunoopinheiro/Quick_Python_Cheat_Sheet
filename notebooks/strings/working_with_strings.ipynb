{
 "cells": [
  {
   "cell_type": "markdown",
   "metadata": {},
   "source": [
    "# Working With Strings"
   ]
  },
  {
   "cell_type": "markdown",
   "metadata": {},
   "source": [
    "### 1. Concatenating Strings\n",
    "To join strings together:"
   ]
  },
  {
   "cell_type": "code",
   "execution_count": 1,
   "metadata": {},
   "outputs": [
    {
     "name": "stdout",
     "output_type": "stream",
     "text": [
      "Hello, Alice!\n"
     ]
    }
   ],
   "source": [
    "greeting = \"Hello\"\n",
    "name = \"Alice\"\n",
    "message = greeting + \", \" + name + \"!\"\n",
    "print(message)"
   ]
  },
  {
   "cell_type": "markdown",
   "metadata": {},
   "source": [
    "### 2. String Formatting with `str.format`\n",
    "To insert values into a string template:"
   ]
  },
  {
   "cell_type": "code",
   "execution_count": 2,
   "metadata": {},
   "outputs": [
    {
     "name": "stdout",
     "output_type": "stream",
     "text": [
      "Hello, Alice. Welcome!\n"
     ]
    }
   ],
   "source": [
    "message = \"{}, {}. Welcome!\".format(greeting, name)\n",
    "print(message)"
   ]
  },
  {
   "cell_type": "markdown",
   "metadata": {},
   "source": [
    "### 3. Formatted String Literals (f-strings)\n",
    "To embed expressions inside string literals (Python 3.6+):"
   ]
  },
  {
   "cell_type": "code",
   "execution_count": 5,
   "metadata": {},
   "outputs": [
    {
     "name": "stdout",
     "output_type": "stream",
     "text": [
      "Hello, Alice. Welcome!!\n"
     ]
    }
   ],
   "source": [
    "message = f\"{greeting}, {name}. Welcome!!\"\n",
    "print(message)"
   ]
  },
  {
   "cell_type": "markdown",
   "metadata": {},
   "source": [
    "### 4. String Methods - Case Conversion\n",
    "To change the case of a string:"
   ]
  },
  {
   "cell_type": "code",
   "execution_count": 6,
   "metadata": {},
   "outputs": [
    {
     "name": "stdout",
     "output_type": "stream",
     "text": [
      "PYTHON\n",
      "python\n",
      "Python\n"
     ]
    }
   ],
   "source": [
    "s = \"Python\"\n",
    "print(s.upper()) # Uppercase\n",
    "print(s.lower()) # Lowercase\n",
    "print(s.title()) # Title Case"
   ]
  },
  {
   "cell_type": "markdown",
   "metadata": {},
   "source": [
    "### 5. String Methods - `strip`, `rstrip`, `lstrip`\n",
    "To remove whitespace or specific characters from the ends of a string:"
   ]
  },
  {
   "cell_type": "code",
   "execution_count": 8,
   "metadata": {},
   "outputs": [
    {
     "name": "stdout",
     "output_type": "stream",
     "text": [
      "|trim me|\n",
      "|   trim me|\n",
      "|trim me   |\n"
     ]
    }
   ],
   "source": [
    "s = \"   trim me   \"\n",
    "print(f\"|{s.strip()}|\") # Both ends\n",
    "print(f\"|{s.rstrip()}|\") # Right end\n",
    "print(f\"|{s.lstrip()}|\") # Left end"
   ]
  },
  {
   "cell_type": "markdown",
   "metadata": {},
   "source": [
    "### 6. String Methods - `startswith`, `endswith`\n",
    "To check the start or end of a string for specific text:"
   ]
  },
  {
   "cell_type": "code",
   "execution_count": 14,
   "metadata": {},
   "outputs": [
    {
     "name": "stdout",
     "output_type": "stream",
     "text": [
      "True\n",
      "False\n",
      "True\n",
      "False\n"
     ]
    }
   ],
   "source": [
    "s = \"filename.txt\"\n",
    "\n",
    "print(s.startswith(\"file\"))\n",
    "print(s.startswith(\"name\"))\n",
    "\n",
    "print(s.endswith(\".txt\"))\n",
    "print(s.endswith(\".png\"))"
   ]
  },
  {
   "cell_type": "markdown",
   "metadata": {},
   "source": [
    "### 7. String Methods - `split`, `join`\n",
    "To split a string into a list or join a list into a string:"
   ]
  },
  {
   "cell_type": "code",
   "execution_count": 15,
   "metadata": {},
   "outputs": [
    {
     "name": "stdout",
     "output_type": "stream",
     "text": [
      "['split', 'this', 'string']\n",
      "split this string\n"
     ]
    }
   ],
   "source": [
    "s = \"split,this,string\"\n",
    "words = s.split(\",\")\n",
    "joined = \" \".join(words)\n",
    "\n",
    "print(words)\n",
    "print(joined)"
   ]
  },
  {
   "cell_type": "markdown",
   "metadata": {},
   "source": [
    "### 8. String Methods - `replace`\n",
    "To replace parts of a string with another string:"
   ]
  },
  {
   "cell_type": "code",
   "execution_count": 16,
   "metadata": {},
   "outputs": [
    {
     "name": "stdout",
     "output_type": "stream",
     "text": [
      "Hello Python\n"
     ]
    }
   ],
   "source": [
    "s = \"Hello world\"\n",
    "new_s = s.replace(\"world\", \"Python\")\n",
    "print(new_s)"
   ]
  },
  {
   "cell_type": "markdown",
   "metadata": {},
   "source": [
    "### 9. String Methods - `find`, `index`\n",
    "To find the position of a substring within a string:"
   ]
  },
  {
   "cell_type": "code",
   "execution_count": 17,
   "metadata": {},
   "outputs": [
    {
     "name": "stdout",
     "output_type": "stream",
     "text": [
      "11\n",
      "11\n"
     ]
    }
   ],
   "source": [
    "s = \"look for a substring\"\n",
    "position = s.find(\"substring\") # Returns -1 if not found\n",
    "index = s.index(\"substring\") # Raises ValueError if not found\n",
    "\n",
    "print(position)\n",
    "print(index)"
   ]
  },
  {
   "cell_type": "markdown",
   "metadata": {},
   "source": [
    "### 10. String Methods - Working with Characters\n",
    "To process individual characters in a string:"
   ]
  },
  {
   "cell_type": "code",
   "execution_count": 18,
   "metadata": {},
   "outputs": [
    {
     "name": "stdout",
     "output_type": "stream",
     "text": [
      "c\n",
      "h\n",
      "a\n",
      "r\n",
      "a\n",
      "c\n",
      "t\n",
      "e\n",
      "r\n",
      "s\n"
     ]
    }
   ],
   "source": [
    "s = \"characters\"\n",
    "for char in s:\n",
    "    print(char)"
   ]
  },
  {
   "cell_type": "markdown",
   "metadata": {},
   "source": [
    "### 11. String Methods - `isdigit`, `isalpha`, `isalnum`\n",
    "To check if a string contains only `digits`, `alphabetic characters`, or `alphanumeric characters`:"
   ]
  },
  {
   "cell_type": "code",
   "execution_count": 20,
   "metadata": {},
   "outputs": [
    {
     "name": "stdout",
     "output_type": "stream",
     "text": [
      "True\n",
      "True\n",
      "True\n"
     ]
    }
   ],
   "source": [
    "print(\"123\".isdigit())\n",
    "print(\"abc\".isalpha())\n",
    "print(\"123abc\".isalnum())"
   ]
  },
  {
   "cell_type": "markdown",
   "metadata": {},
   "source": [
    "### 12. String Slicing\n",
    "To extract a substring using slicing:"
   ]
  },
  {
   "cell_type": "code",
   "execution_count": 21,
   "metadata": {},
   "outputs": [
    {
     "name": "stdout",
     "output_type": "stream",
     "text": [
      "ice m\n"
     ]
    }
   ],
   "source": [
    "s = \"slice me\"\n",
    "sub = s[2:7] # from 3rd to 7th character\n",
    "\n",
    "print(sub)"
   ]
  },
  {
   "cell_type": "markdown",
   "metadata": {},
   "source": [
    "### 13. String Length with `len`\n",
    "To get the length of a string:"
   ]
  },
  {
   "cell_type": "code",
   "execution_count": 22,
   "metadata": {},
   "outputs": [
    {
     "name": "stdout",
     "output_type": "stream",
     "text": [
      "6\n"
     ]
    }
   ],
   "source": [
    "s = \"length\"\n",
    "print(len(s))"
   ]
  },
  {
   "cell_type": "markdown",
   "metadata": {},
   "source": [
    "### 14. Multiline Strings\n",
    "To work with strings spanning multiple lines:"
   ]
  },
  {
   "cell_type": "code",
   "execution_count": 23,
   "metadata": {},
   "outputs": [
    {
     "name": "stdout",
     "output_type": "stream",
     "text": [
      "Line one\n",
      "Line two\n",
      "Line three\n"
     ]
    }
   ],
   "source": [
    "multi = \"\"\"Line one\n",
    "Line two\n",
    "Line three\"\"\"\n",
    "\n",
    "print(multi)"
   ]
  },
  {
   "cell_type": "markdown",
   "metadata": {},
   "source": [
    "### 15. Raw Strings\n",
    "To treat backslashes as literal characters, useful for regex patterns and file paths:"
   ]
  },
  {
   "cell_type": "code",
   "execution_count": 28,
   "metadata": {},
   "outputs": [
    {
     "name": "stdout",
     "output_type": "stream",
     "text": [
      "C:\\User\\name\\folder\n"
     ]
    }
   ],
   "source": [
    "path_raw = r\"C:\\User\\name\\folder\"\n",
    "\n",
    "print(path_raw)"
   ]
  },
  {
   "cell_type": "markdown",
   "metadata": {},
   "source": [
    "### 16. Formatting Strings inside an f-string\n",
    "To quick format values to display in a f-string:"
   ]
  },
  {
   "cell_type": "code",
   "execution_count": 4,
   "metadata": {},
   "outputs": [
    {
     "name": "stdout",
     "output_type": "stream",
     "text": [
      "3.141592653589793\n",
      "Pi: 3.142\n"
     ]
    }
   ],
   "source": [
    "from math import pi\n",
    "\n",
    "print(pi)\n",
    "print(f\"Pi: {pi:.3f}\") # Rounds to the 3rd decimal place"
   ]
  }
 ],
 "metadata": {
  "kernelspec": {
   "display_name": ".venv",
   "language": "python",
   "name": "python3"
  },
  "language_info": {
   "codemirror_mode": {
    "name": "ipython",
    "version": 3
   },
   "file_extension": ".py",
   "mimetype": "text/x-python",
   "name": "python",
   "nbconvert_exporter": "python",
   "pygments_lexer": "ipython3",
   "version": "3.12.0"
  }
 },
 "nbformat": 4,
 "nbformat_minor": 2
}
