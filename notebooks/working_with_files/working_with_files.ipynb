{
 "cells": [
  {
   "cell_type": "markdown",
   "metadata": {},
   "source": [
    "# Working With Files"
   ]
  },
  {
   "cell_type": "markdown",
   "metadata": {},
   "source": [
    "### 1. Reading a file\n",
    "To read the entire content of a file:"
   ]
  },
  {
   "cell_type": "code",
   "execution_count": 1,
   "metadata": {},
   "outputs": [
    {
     "name": "stdout",
     "output_type": "stream",
     "text": [
      "Welcome to the Python Lesson!\n",
      "\n",
      "In this lesson, we will cover the basics of Python programming.\n",
      "\n",
      "Topics Covered:\n",
      "1. Introduction to Python\n",
      "2. Variables and Data Types\n",
      "3. Control Flow (if statements, loops)\n",
      "4. Functions\n",
      "5. Data Structures (lists, tuples, dictionaries)\n",
      "6. File Handling\n",
      "\n",
      "Feel free to follow along and execute the code snippets in your Jupyter notebook.\n",
      "\n"
     ]
    }
   ],
   "source": [
    "with open('example.txt', 'r') as file:\n",
    "    content = file.read()\n",
    "    print(content)"
   ]
  },
  {
   "cell_type": "code",
   "execution_count": 2,
   "metadata": {},
   "outputs": [],
   "source": [
    "# Let's transfor this into a function for latter use in this notebook\n",
    "def readfile(filepath: str) -> None:\n",
    "    with open(filepath, 'r') as file:\n",
    "        content = file.read()\n",
    "        print(content)"
   ]
  },
  {
   "cell_type": "markdown",
   "metadata": {},
   "source": [
    "### 2. Writing to a File\n",
    "To write text to a file, overwriting existing content:"
   ]
  },
  {
   "cell_type": "code",
   "execution_count": 3,
   "metadata": {},
   "outputs": [],
   "source": [
    "# writing\n",
    "with open('example2.txt', 'w') as file:\n",
    "    file.write('Hello, Python')"
   ]
  },
  {
   "cell_type": "code",
   "execution_count": 4,
   "metadata": {},
   "outputs": [
    {
     "name": "stdout",
     "output_type": "stream",
     "text": [
      "Hello, Python\n"
     ]
    }
   ],
   "source": [
    "# reading again\n",
    "readfile('example2.txt')"
   ]
  },
  {
   "cell_type": "markdown",
   "metadata": {},
   "source": [
    "### 3. Appending to a File\n",
    "To add text to the end of an existing file:"
   ]
  },
  {
   "cell_type": "code",
   "execution_count": 5,
   "metadata": {},
   "outputs": [],
   "source": [
    "with open('example2.txt', 'a') as file:\n",
    "    file.write('\\nAppend this line.')"
   ]
  },
  {
   "cell_type": "code",
   "execution_count": 6,
   "metadata": {},
   "outputs": [
    {
     "name": "stdout",
     "output_type": "stream",
     "text": [
      "Hello, Python\n",
      "Append this line.\n"
     ]
    }
   ],
   "source": [
    "readfile('example2.txt')"
   ]
  },
  {
   "cell_type": "markdown",
   "metadata": {},
   "source": [
    "### 4. Reading Lines into a List\n",
    "To read a file line by line into a list:"
   ]
  },
  {
   "cell_type": "code",
   "execution_count": 7,
   "metadata": {},
   "outputs": [
    {
     "name": "stdout",
     "output_type": "stream",
     "text": [
      "['Welcome to the Python Lesson!\\n', '\\n', 'In this lesson, we will cover the basics of Python programming.\\n', '\\n', 'Topics Covered:\\n', '1. Introduction to Python\\n', '2. Variables and Data Types\\n', '3. Control Flow (if statements, loops)\\n', '4. Functions\\n', '5. Data Structures (lists, tuples, dictionaries)\\n', '6. File Handling\\n', '\\n', 'Feel free to follow along and execute the code snippets in your Jupyter notebook.\\n']\n"
     ]
    }
   ],
   "source": [
    "with open('example.txt', 'r') as file:\n",
    "    lines = file.readlines()\n",
    "    print(lines)"
   ]
  },
  {
   "cell_type": "markdown",
   "metadata": {},
   "source": [
    "### 5. Iterating Over Each Line in a File\n",
    "To process each line in a file:"
   ]
  },
  {
   "cell_type": "code",
   "execution_count": 8,
   "metadata": {},
   "outputs": [
    {
     "name": "stdout",
     "output_type": "stream",
     "text": [
      "Linha: Welcome to the Python Lesson!\n",
      "Linha: \n",
      "Linha: In this lesson, we will cover the basics of Python programming.\n",
      "Linha: \n",
      "Linha: Topics Covered:\n",
      "Linha: 1. Introduction to Python\n",
      "Linha: 2. Variables and Data Types\n",
      "Linha: 3. Control Flow (if statements, loops)\n",
      "Linha: 4. Functions\n",
      "Linha: 5. Data Structures (lists, tuples, dictionaries)\n",
      "Linha: 6. File Handling\n",
      "Linha: \n",
      "Linha: Feel free to follow along and execute the code snippets in your Jupyter notebook.\n"
     ]
    }
   ],
   "source": [
    "with open('example.txt', 'r') as file:\n",
    "    for line in file:\n",
    "        print(f\"Linha: {line.strip()}\")"
   ]
  },
  {
   "cell_type": "markdown",
   "metadata": {},
   "source": [
    "### 6. Checking if a File Exists:\n",
    "To check if a file exists before performing file operations:"
   ]
  },
  {
   "cell_type": "code",
   "execution_count": 9,
   "metadata": {},
   "outputs": [
    {
     "name": "stdout",
     "output_type": "stream",
     "text": [
      "File exists!\n"
     ]
    }
   ],
   "source": [
    "import os\n",
    "if os.path.exists('example.txt'):\n",
    "    print('File exists!')\n",
    "else:\n",
    "    print('File foes not exist.')"
   ]
  },
  {
   "cell_type": "code",
   "execution_count": 10,
   "metadata": {},
   "outputs": [
    {
     "name": "stdout",
     "output_type": "stream",
     "text": [
      "File foes not exist.\n"
     ]
    }
   ],
   "source": [
    "import os\n",
    "if os.path.exists('ghost_file.txt'):\n",
    "    print('File exists!')\n",
    "else:\n",
    "    print('File foes not exist.')"
   ]
  },
  {
   "cell_type": "markdown",
   "metadata": {},
   "source": [
    "### 7. Writing Lists to a File:\n",
    "To write each element of a list to a new line in a file:"
   ]
  },
  {
   "cell_type": "code",
   "execution_count": 11,
   "metadata": {},
   "outputs": [],
   "source": [
    "lines = ['First line', 'Second line', 'Third line']\n",
    "with open('example3.txt', 'w') as file:\n",
    "    for line in lines:\n",
    "        file.write(f'{line}\\n')"
   ]
  },
  {
   "cell_type": "code",
   "execution_count": 12,
   "metadata": {},
   "outputs": [
    {
     "name": "stdout",
     "output_type": "stream",
     "text": [
      "First line\n",
      "Second line\n",
      "Third line\n",
      "\n"
     ]
    }
   ],
   "source": [
    "readfile('example3.txt')"
   ]
  },
  {
   "cell_type": "markdown",
   "metadata": {},
   "source": [
    "### 8. Using With Blocks for Multiple Files\n",
    "To work with multiple files simultaneously using `with` blocks:"
   ]
  },
  {
   "cell_type": "code",
   "execution_count": 13,
   "metadata": {},
   "outputs": [
    {
     "name": "stdout",
     "output_type": "stream",
     "text": [
      "1. Introduction to Python\n",
      "2. Variables and Data Types\n",
      "3. Control Flow (if statements, loops)\n",
      "4. Functions\n",
      "5. Data Structures (lists, tuples, dictionaries)\n",
      "6. File Handling\n"
     ]
    }
   ],
   "source": [
    "readfile('source.txt')"
   ]
  },
  {
   "cell_type": "code",
   "execution_count": 14,
   "metadata": {},
   "outputs": [
    {
     "ename": "FileNotFoundError",
     "evalue": "[Errno 2] No such file or directory: 'destination.txt'",
     "output_type": "error",
     "traceback": [
      "\u001b[1;31m---------------------------------------------------------------------------\u001b[0m",
      "\u001b[1;31mFileNotFoundError\u001b[0m                         Traceback (most recent call last)",
      "Cell \u001b[1;32mIn[14], line 2\u001b[0m\n\u001b[0;32m      1\u001b[0m \u001b[38;5;66;03m# Should return a 'FileNotFoundError' error.\u001b[39;00m\n\u001b[1;32m----> 2\u001b[0m \u001b[43mreadfile\u001b[49m\u001b[43m(\u001b[49m\u001b[38;5;124;43m'\u001b[39;49m\u001b[38;5;124;43mdestination.txt\u001b[39;49m\u001b[38;5;124;43m'\u001b[39;49m\u001b[43m)\u001b[49m\n",
      "Cell \u001b[1;32mIn[2], line 3\u001b[0m, in \u001b[0;36mreadfile\u001b[1;34m(filepath)\u001b[0m\n\u001b[0;32m      2\u001b[0m \u001b[38;5;28;01mdef\u001b[39;00m \u001b[38;5;21mreadfile\u001b[39m(filepath: \u001b[38;5;28mstr\u001b[39m) \u001b[38;5;241m-\u001b[39m\u001b[38;5;241m>\u001b[39m \u001b[38;5;28;01mNone\u001b[39;00m:\n\u001b[1;32m----> 3\u001b[0m     \u001b[38;5;28;01mwith\u001b[39;00m \u001b[38;5;28;43mopen\u001b[39;49m\u001b[43m(\u001b[49m\u001b[43mfilepath\u001b[49m\u001b[43m,\u001b[49m\u001b[43m \u001b[49m\u001b[38;5;124;43m'\u001b[39;49m\u001b[38;5;124;43mr\u001b[39;49m\u001b[38;5;124;43m'\u001b[39;49m\u001b[43m)\u001b[49m \u001b[38;5;28;01mas\u001b[39;00m file:\n\u001b[0;32m      4\u001b[0m         content \u001b[38;5;241m=\u001b[39m file\u001b[38;5;241m.\u001b[39mread()\n\u001b[0;32m      5\u001b[0m         \u001b[38;5;28mprint\u001b[39m(content)\n",
      "File \u001b[1;32mc:\\DEV-GIT\\STUDY\\Quick_Python_Cheat_Sheet\\.venv\\Lib\\site-packages\\IPython\\core\\interactiveshell.py:324\u001b[0m, in \u001b[0;36m_modified_open\u001b[1;34m(file, *args, **kwargs)\u001b[0m\n\u001b[0;32m    317\u001b[0m \u001b[38;5;28;01mif\u001b[39;00m file \u001b[38;5;129;01min\u001b[39;00m {\u001b[38;5;241m0\u001b[39m, \u001b[38;5;241m1\u001b[39m, \u001b[38;5;241m2\u001b[39m}:\n\u001b[0;32m    318\u001b[0m     \u001b[38;5;28;01mraise\u001b[39;00m \u001b[38;5;167;01mValueError\u001b[39;00m(\n\u001b[0;32m    319\u001b[0m         \u001b[38;5;124mf\u001b[39m\u001b[38;5;124m\"\u001b[39m\u001b[38;5;124mIPython won\u001b[39m\u001b[38;5;124m'\u001b[39m\u001b[38;5;124mt let you open fd=\u001b[39m\u001b[38;5;132;01m{\u001b[39;00mfile\u001b[38;5;132;01m}\u001b[39;00m\u001b[38;5;124m by default \u001b[39m\u001b[38;5;124m\"\u001b[39m\n\u001b[0;32m    320\u001b[0m         \u001b[38;5;124m\"\u001b[39m\u001b[38;5;124mas it is likely to crash IPython. If you know what you are doing, \u001b[39m\u001b[38;5;124m\"\u001b[39m\n\u001b[0;32m    321\u001b[0m         \u001b[38;5;124m\"\u001b[39m\u001b[38;5;124myou can use builtins\u001b[39m\u001b[38;5;124m'\u001b[39m\u001b[38;5;124m open.\u001b[39m\u001b[38;5;124m\"\u001b[39m\n\u001b[0;32m    322\u001b[0m     )\n\u001b[1;32m--> 324\u001b[0m \u001b[38;5;28;01mreturn\u001b[39;00m \u001b[43mio_open\u001b[49m\u001b[43m(\u001b[49m\u001b[43mfile\u001b[49m\u001b[43m,\u001b[49m\u001b[43m \u001b[49m\u001b[38;5;241;43m*\u001b[39;49m\u001b[43margs\u001b[49m\u001b[43m,\u001b[49m\u001b[43m \u001b[49m\u001b[38;5;241;43m*\u001b[39;49m\u001b[38;5;241;43m*\u001b[39;49m\u001b[43mkwargs\u001b[49m\u001b[43m)\u001b[49m\n",
      "\u001b[1;31mFileNotFoundError\u001b[0m: [Errno 2] No such file or directory: 'destination.txt'"
     ]
    }
   ],
   "source": [
    "# Should return a 'FileNotFoundError' error.\n",
    "readfile('destination.txt')"
   ]
  },
  {
   "cell_type": "code",
   "execution_count": 15,
   "metadata": {},
   "outputs": [],
   "source": [
    "# working with multiple files\n",
    "with open('source.txt', 'r') as source, open('destination.txt', 'w') as destination:\n",
    "    content = source.read()\n",
    "    destination.write(content)"
   ]
  },
  {
   "cell_type": "code",
   "execution_count": 16,
   "metadata": {},
   "outputs": [
    {
     "name": "stdout",
     "output_type": "stream",
     "text": [
      "1. Introduction to Python\n",
      "2. Variables and Data Types\n",
      "3. Control Flow (if statements, loops)\n",
      "4. Functions\n",
      "5. Data Structures (lists, tuples, dictionaries)\n",
      "6. File Handling\n"
     ]
    }
   ],
   "source": [
    "readfile('destination.txt')"
   ]
  },
  {
   "cell_type": "markdown",
   "metadata": {},
   "source": [
    "### 9. Deleting a File\n",
    "To safely delete a file if it exists:"
   ]
  },
  {
   "cell_type": "code",
   "execution_count": 17,
   "metadata": {},
   "outputs": [
    {
     "name": "stdout",
     "output_type": "stream",
     "text": [
      "File Deleted.\n"
     ]
    }
   ],
   "source": [
    "import os\n",
    "if os.path.exists('destination.txt'):\n",
    "    os.remove('destination.txt')\n",
    "    print('File Deleted.')\n",
    "else:\n",
    "    print('File does not exist.')"
   ]
  },
  {
   "cell_type": "code",
   "execution_count": 18,
   "metadata": {},
   "outputs": [
    {
     "name": "stdout",
     "output_type": "stream",
     "text": [
      "File does not exist.\n"
     ]
    }
   ],
   "source": [
    "import os\n",
    "if os.path.exists('destination.txt'):\n",
    "    os.remove('destination.txt')\n",
    "    print('File Deleted.')\n",
    "else:\n",
    "    print('File does not exist.')"
   ]
  },
  {
   "cell_type": "markdown",
   "metadata": {},
   "source": [
    "### Reading and Writing Binary Files\n",
    "To read from and write to a binary file in binary mode (useful for images, videos, etc.):\n",
    "\n",
    "<img src=\"image.png\" width=200px />\n",
    "\n",
    "_image.png_"
   ]
  },
  {
   "cell_type": "code",
   "execution_count": 19,
   "metadata": {},
   "outputs": [],
   "source": [
    "# Reading a binary file\n",
    "with open('image.png', 'rb') as file:\n",
    "    content = file.read()\n",
    "\n",
    "# Writing to a binary file\n",
    "with open('copy.png', 'wb') as file:\n",
    "    file.write(content)"
   ]
  }
 ],
 "metadata": {
  "kernelspec": {
   "display_name": ".venv",
   "language": "python",
   "name": "python3"
  },
  "language_info": {
   "codemirror_mode": {
    "name": "ipython",
    "version": 3
   },
   "file_extension": ".py",
   "mimetype": "text/x-python",
   "name": "python",
   "nbconvert_exporter": "python",
   "pygments_lexer": "ipython3",
   "version": "3.12.0"
  }
 },
 "nbformat": 4,
 "nbformat_minor": 2
}
