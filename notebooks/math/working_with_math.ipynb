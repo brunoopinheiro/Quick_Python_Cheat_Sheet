{
 "cells": [
  {
   "cell_type": "markdown",
   "metadata": {},
   "source": [
    "# Working With Mathematical Operations and Permutations"
   ]
  },
  {
   "cell_type": "markdown",
   "metadata": {},
   "source": [
    "### 1. Basic Arithmetic Operations\n",
    "To perform a basic arithmetic:"
   ]
  },
  {
   "cell_type": "code",
   "execution_count": 1,
   "metadata": {},
   "outputs": [
    {
     "name": "stdout",
     "output_type": "stream",
     "text": [
      "[10, 4, 21, 2.3333333333333335, 1, 343]\n"
     ]
    }
   ],
   "source": [
    "sum_values = 7 + 3\n",
    "difference = 7 - 3\n",
    "product = 7 * 3\n",
    "quotient = 7 / 3\n",
    "remainder = 7 % 3\n",
    "power = 7 ** 3\n",
    "\n",
    "print([sum_values, difference, product, quotient, remainder, power])"
   ]
  },
  {
   "cell_type": "markdown",
   "metadata": {},
   "source": [
    "### 2. Working with Complex Numbers\n",
    "To work with complex numbers:"
   ]
  },
  {
   "cell_type": "code",
   "execution_count": 2,
   "metadata": {},
   "outputs": [
    {
     "data": {
      "text/plain": [
       "(2.0, 3.0, (2-3j))"
      ]
     },
     "execution_count": 2,
     "metadata": {},
     "output_type": "execute_result"
    }
   ],
   "source": [
    "z = complex(2, 3) # Create a complex number 2 + 3j\n",
    "real_part = z.real # Retrieve the real part\n",
    "imaginary_part = z.imag # Retrieve the imaginary part\n",
    "conjugate = z.conjugate()\n",
    "\n",
    "(real_part, imaginary_part, conjugate)"
   ]
  },
  {
   "cell_type": "markdown",
   "metadata": {},
   "source": [
    "### 3. Mathmatical Functions\n",
    "Common math functions:"
   ]
  },
  {
   "cell_type": "code",
   "execution_count": 3,
   "metadata": {},
   "outputs": [
    {
     "name": "stdout",
     "output_type": "stream",
     "text": [
      "4.0\n",
      "2.0\n",
      "1.0\n"
     ]
    }
   ],
   "source": [
    "import math\n",
    "root = math.sqrt(16) # Square root\n",
    "print(root)\n",
    "\n",
    "logarithm = math.log(100, 10) # Logarithm base 10 of 100\n",
    "print(logarithm)\n",
    "\n",
    "sine = math.sin(math.pi / 2) # Sine of 90 degrees (in radians)\n",
    "print(sine)"
   ]
  },
  {
   "cell_type": "markdown",
   "metadata": {},
   "source": [
    "### 4. Generating Permutations\n",
    "Easy way to generate permutations from a given set:"
   ]
  },
  {
   "cell_type": "code",
   "execution_count": 4,
   "metadata": {},
   "outputs": [
    {
     "name": "stdout",
     "output_type": "stream",
     "text": [
      "(1, 2, 3)\n",
      "(1, 3, 2)\n",
      "(2, 1, 3)\n",
      "(2, 3, 1)\n",
      "(3, 1, 2)\n",
      "(3, 2, 1)\n"
     ]
    }
   ],
   "source": [
    "from itertools import permutations\n",
    "paths = permutations([1, 2, 3]) # Generate all permutations of the list [1, 2, 3]\n",
    "\n",
    "for path in paths:\n",
    "    print(path)"
   ]
  },
  {
   "cell_type": "markdown",
   "metadata": {},
   "source": [
    "### 5. Generating Combinations\n",
    "Easy way to generate combinations:"
   ]
  },
  {
   "cell_type": "code",
   "execution_count": 5,
   "metadata": {},
   "outputs": [
    {
     "name": "stdout",
     "output_type": "stream",
     "text": [
      "(1, 2)\n",
      "(1, 3)\n",
      "(1, 4)\n",
      "(2, 3)\n",
      "(2, 4)\n",
      "(3, 4)\n"
     ]
    }
   ],
   "source": [
    "from itertools import combinations\n",
    "\n",
    "combos = combinations([1, 2, 3, 4], 2) # Generate all 2-element combinations\n",
    "\n",
    "for combo in combos:\n",
    "    print(combo)"
   ]
  },
  {
   "cell_type": "markdown",
   "metadata": {},
   "source": [
    "### 6. Random Number Generation\n",
    "To get a random number:"
   ]
  },
  {
   "cell_type": "code",
   "execution_count": 10,
   "metadata": {},
   "outputs": [
    {
     "name": "stdout",
     "output_type": "stream",
     "text": [
      "47\n",
      "22\n",
      "49\n",
      "75\n",
      "72\n",
      "5\n",
      "32\n",
      "94\n",
      "14\n",
      "39\n"
     ]
    }
   ],
   "source": [
    "import random\n",
    "for i in range(10):\n",
    "    num = random.randint(1, 100) # Generate a random integer between 1 and 100\n",
    "    print(num)"
   ]
  },
  {
   "cell_type": "markdown",
   "metadata": {},
   "source": [
    "### 7. Working With Fractions\n",
    "When you need to work with fractions:"
   ]
  },
  {
   "cell_type": "code",
   "execution_count": 9,
   "metadata": {},
   "outputs": [
    {
     "name": "stdout",
     "output_type": "stream",
     "text": [
      "3/4\n",
      "7/4\n"
     ]
    }
   ],
   "source": [
    "from fractions import Fraction\n",
    "\n",
    "f = Fraction(3, 4) # Create a fraction 3/4\n",
    "\n",
    "print(f)\n",
    "print (f + 1) # Add a fraction and an integer"
   ]
  },
  {
   "cell_type": "markdown",
   "metadata": {},
   "source": [
    "### 8. Statistical Functions\n",
    "To get Average, Median, and Standard Deviation:"
   ]
  },
  {
   "cell_type": "code",
   "execution_count": 11,
   "metadata": {},
   "outputs": [
    {
     "data": {
      "text/plain": [
       "(3, 3, 1.5811388300841898)"
      ]
     },
     "execution_count": 11,
     "metadata": {},
     "output_type": "execute_result"
    }
   ],
   "source": [
    "import statistics\n",
    "\n",
    "data = [1, 2, 3, 4, 5]\n",
    "mean = statistics.mean(data)\n",
    "median = statistics.median(data)\n",
    "stdev = statistics.stdev(data) # Standard Deviation\n",
    "\n",
    "(mean, median, stdev)"
   ]
  },
  {
   "cell_type": "markdown",
   "metadata": {},
   "source": [
    "### 9. Trigonometric Functions\n",
    "To work with trigonometry:"
   ]
  },
  {
   "cell_type": "code",
   "execution_count": 12,
   "metadata": {},
   "outputs": [
    {
     "data": {
      "text/plain": [
       "(1.0471975511965976, 0.5000000000000001)"
      ]
     },
     "execution_count": 12,
     "metadata": {},
     "output_type": "execute_result"
    }
   ],
   "source": [
    "import math\n",
    "\n",
    "angle_rad = math.radians(60) # Convert 60 degrees to radians\n",
    "cosine = math.cos(angle_rad) # Cosine of the angle\n",
    "\n",
    "(angle_rad, cosine)"
   ]
  },
  {
   "cell_type": "markdown",
   "metadata": {},
   "source": [
    "### 10. Handling Infinity and NaN\n",
    "To work with Infinity and NaN (_Not a Number_):"
   ]
  },
  {
   "cell_type": "code",
   "execution_count": 16,
   "metadata": {},
   "outputs": [
    {
     "name": "stdout",
     "output_type": "stream",
     "text": [
      "inf\n",
      "<class 'float'>\n",
      "nan\n",
      "<class 'float'>\n"
     ]
    }
   ],
   "source": [
    "import math\n",
    "\n",
    "infinity = math.inf # Representing Infinity\n",
    "print(infinity)\n",
    "print(type(infinity))\n",
    "\n",
    "not_a_number = math.nan # Representing a non-number (NaN)\n",
    "print(not_a_number)\n",
    "print(type(not_a_number))"
   ]
  }
 ],
 "metadata": {
  "kernelspec": {
   "display_name": ".venv",
   "language": "python",
   "name": "python3"
  },
  "language_info": {
   "codemirror_mode": {
    "name": "ipython",
    "version": 3
   },
   "file_extension": ".py",
   "mimetype": "text/x-python",
   "name": "python",
   "nbconvert_exporter": "python",
   "pygments_lexer": "ipython3",
   "version": "3.12.0"
  }
 },
 "nbformat": 4,
 "nbformat_minor": 2
}
