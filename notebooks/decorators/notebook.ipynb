{
 "cells": [
  {
   "cell_type": "markdown",
   "metadata": {},
   "source": [
    "# Decorators\n",
    "A Python decorator is a special type of function that allows you to modify the behavior of another function without changing its source code. It provides a way to add functionality to a function by wrapping it with another function.\n",
    "\n",
    "In Python, decorators are denoted by the @ symbol followed by the decorator function name, placed above the function definition. When the decorated function is called, it is actually the decorator function that gets executed first, allowing you to perform additional operations before and/or after the original function is called.\n",
    "\n",
    "Decorators are commonly used for tasks such as logging, timing, authentication, and memoization. They provide a clean and reusable way to extend the functionality of functions without modifying their original implementation.\n",
    "\n",
    "---"
   ]
  },
  {
   "cell_type": "markdown",
   "metadata": {},
   "source": [
    "## 1. Basic Decorator\n",
    "To create a simple decorator that wraps a function:"
   ]
  },
  {
   "cell_type": "code",
   "execution_count": 37,
   "metadata": {},
   "outputs": [],
   "source": [
    "def my_decorator(func):\n",
    "    def wrapper():\n",
    "        print('Something is happening before the function is called.')\n",
    "        func()\n",
    "        print('Something is happening after the function is called.')\n",
    "    return wrapper"
   ]
  },
  {
   "cell_type": "code",
   "execution_count": 38,
   "metadata": {},
   "outputs": [
    {
     "name": "stdout",
     "output_type": "stream",
     "text": [
      "Something is happening before the function is called.\n",
      "Hello!\n",
      "Something is happening after the function is called.\n"
     ]
    }
   ],
   "source": [
    "@my_decorator\n",
    "def say_hello():\n",
    "    print('Hello!')\n",
    "\n",
    "say_hello()"
   ]
  },
  {
   "cell_type": "markdown",
   "metadata": {},
   "source": [
    "## 2. Decorator with Arguments\n",
    "To pass arguments to the function within a decorator:"
   ]
  },
  {
   "cell_type": "code",
   "execution_count": 39,
   "metadata": {},
   "outputs": [],
   "source": [
    "def my_decorator(func):\n",
    "    def wrapper(*args, **kwargs):\n",
    "        print('Before call')\n",
    "        result = func(*args, **kwargs)\n",
    "        print('After call')\n",
    "        return result\n",
    "    return wrapper"
   ]
  },
  {
   "cell_type": "code",
   "execution_count": 40,
   "metadata": {},
   "outputs": [
    {
     "name": "stdout",
     "output_type": "stream",
     "text": [
      "Before call\n",
      "Hello, Alice\n",
      "After call\n"
     ]
    }
   ],
   "source": [
    "@my_decorator\n",
    "def greet(name):\n",
    "    print(f'Hello, {name}')\n",
    "\n",
    "\n",
    "greet('Alice')"
   ]
  },
  {
   "cell_type": "markdown",
   "metadata": {},
   "source": [
    "## 3. Using `functools.wraps`\n",
    "To preserve the original function's metadata when using a decorator:"
   ]
  },
  {
   "cell_type": "code",
   "execution_count": 41,
   "metadata": {},
   "outputs": [
    {
     "name": "stdout",
     "output_type": "stream",
     "text": [
      "greet\n",
      "Greet someone\n"
     ]
    }
   ],
   "source": [
    "from functools import wraps\n",
    "\n",
    "\n",
    "def my_decorator(func):\n",
    "    @wraps(func)\n",
    "    def wrapper(*args, **kwargs):\n",
    "        \"\"\"Wrapper function\"\"\"\n",
    "        print('Before call')\n",
    "        return func(*args, **kwargs)\n",
    "    return wrapper\n",
    "\n",
    "\n",
    "@my_decorator\n",
    "def greet(name):\n",
    "    \"\"\"Greet someone\"\"\"\n",
    "    print(f'Hello, {name}')\n",
    "\n",
    "\n",
    "print(greet.__name__)\n",
    "print(greet.__doc__)"
   ]
  },
  {
   "cell_type": "markdown",
   "metadata": {},
   "source": [
    "## 4. Class Decorator\n",
    "To create a decorator using a class instead of a function:"
   ]
  },
  {
   "cell_type": "code",
   "execution_count": 42,
   "metadata": {},
   "outputs": [
    {
     "name": "stdout",
     "output_type": "stream",
     "text": [
      "Before call\n",
      "Hello Alice\n",
      "After call\n"
     ]
    }
   ],
   "source": [
    "from typing import Any\n",
    "\n",
    "\n",
    "class MyDecorator:\n",
    "\n",
    "    def __init__(self, func) -> None:\n",
    "        self.func = func\n",
    "\n",
    "    def __call__(self, *args: Any, **kwds: Any) -> Any:\n",
    "        print('Before call')\n",
    "        self.func(*args, **kwds)\n",
    "        print('After call')\n",
    "\n",
    "\n",
    "@MyDecorator\n",
    "def greet(name):\n",
    "    print(f'Hello {name}')\n",
    "\n",
    "\n",
    "greet('Alice')"
   ]
  },
  {
   "cell_type": "markdown",
   "metadata": {},
   "source": [
    "## 5. Decorator with Arguments\n",
    "To create a decorator that accepts its own arguments:"
   ]
  },
  {
   "cell_type": "code",
   "execution_count": 43,
   "metadata": {},
   "outputs": [
    {
     "name": "stdout",
     "output_type": "stream",
     "text": [
      "Hello\n",
      "Hello\n",
      "Hello\n"
     ]
    }
   ],
   "source": [
    "from functools import wraps\n",
    "\n",
    "\n",
    "def repeat(times):\n",
    "    def decorator(func):\n",
    "        @wraps(func)\n",
    "        def wrapper(*args, **kwargs):\n",
    "            for _ in range(times):\n",
    "                func(*args, **kwargs)\n",
    "        return wrapper\n",
    "    return decorator\n",
    "\n",
    "\n",
    "@repeat(3)\n",
    "def say_hello():\n",
    "    print('Hello')\n",
    "\n",
    "\n",
    "say_hello()"
   ]
  },
  {
   "cell_type": "markdown",
   "metadata": {},
   "source": [
    "## 6. Method Decorator\n",
    "To apply a decorator to a method within a class:"
   ]
  },
  {
   "cell_type": "code",
   "execution_count": 44,
   "metadata": {},
   "outputs": [
    {
     "name": "stdout",
     "output_type": "stream",
     "text": [
      "Method Decorator\n",
      "Hello, Alice\n"
     ]
    }
   ],
   "source": [
    "from functools import wraps\n",
    "\n",
    "\n",
    "def method_decorator(func):\n",
    "    @wraps(func)\n",
    "    def wrapper(self, *args, **kwargs):\n",
    "        print('Method Decorator')\n",
    "        return func(self, *args, **kwargs)\n",
    "    return wrapper\n",
    "\n",
    "\n",
    "class MyClass:\n",
    "    @method_decorator\n",
    "    def greet(self, name):\n",
    "        print(f'Hello, {name}')\n",
    "\n",
    "\n",
    "obj = MyClass()\n",
    "obj.greet('Alice')"
   ]
  },
  {
   "cell_type": "markdown",
   "metadata": {},
   "source": [
    "## 7. Stacking Decorators\n",
    "To apply multiple decorators to a single function:"
   ]
  },
  {
   "cell_type": "code",
   "execution_count": 45,
   "metadata": {},
   "outputs": [
    {
     "name": "stdout",
     "output_type": "stream",
     "text": [
      "Before call\n",
      "Hello,  Alice\n",
      "Hello,  Alice\n"
     ]
    }
   ],
   "source": [
    "@my_decorator\n",
    "@repeat(2)\n",
    "def greet(name):\n",
    "    print('Hello, ', name)\n",
    "\n",
    "\n",
    "greet('Alice')"
   ]
  },
  {
   "cell_type": "markdown",
   "metadata": {},
   "source": [
    "## 8. Decorator with Optional Arguments\n",
    "To create a decorator that can be used with or without arguments:"
   ]
  },
  {
   "cell_type": "code",
   "execution_count": 46,
   "metadata": {},
   "outputs": [
    {
     "name": "stdout",
     "output_type": "stream",
     "text": [
      "Argument: <function no_args at 0x0000017A55B760C0>\n",
      "No args\n",
      "Argument: Decorator With args\n",
      "With args\n"
     ]
    }
   ],
   "source": [
    "def smart_decorator(arg=None):\n",
    "    def decorator(func):\n",
    "        def wrapper(*args, **kwargs):\n",
    "            if arg:\n",
    "                print(f'Argument: {arg}')\n",
    "            return func(*args, **kwargs)\n",
    "        return wrapper\n",
    "    if callable(arg):\n",
    "        return decorator(arg)\n",
    "    return decorator\n",
    "\n",
    "\n",
    "@smart_decorator\n",
    "def no_args():\n",
    "    print('No args')\n",
    "\n",
    "\n",
    "@smart_decorator('Decorator With args')\n",
    "def with_args():\n",
    "    print('With args')\n",
    "\n",
    "\n",
    "no_args()\n",
    "with_args()"
   ]
  },
  {
   "cell_type": "markdown",
   "metadata": {},
   "source": [
    "## 9. Class Method Decorator\n",
    "To decorate a class method:"
   ]
  },
  {
   "cell_type": "code",
   "execution_count": 47,
   "metadata": {},
   "outputs": [
    {
     "name": "stdout",
     "output_type": "stream",
     "text": [
      "Before call\n",
      "Class method called\n"
     ]
    }
   ],
   "source": [
    "class MyClass:\n",
    "    @classmethod\n",
    "    @my_decorator\n",
    "    def class_method(cls):\n",
    "        print(\"Class method called\")\n",
    "\n",
    "\n",
    "MyClass.class_method()"
   ]
  },
  {
   "cell_type": "markdown",
   "metadata": {},
   "source": [
    "## 10. Decorator for Static Method\n",
    "To decorate a static method:"
   ]
  },
  {
   "cell_type": "code",
   "execution_count": 48,
   "metadata": {},
   "outputs": [
    {
     "name": "stdout",
     "output_type": "stream",
     "text": [
      "Before call\n",
      "Static method called\n"
     ]
    }
   ],
   "source": [
    "class MyClass:\n",
    "    @staticmethod\n",
    "    @my_decorator\n",
    "    def static_method():\n",
    "        print('Static method called')\n",
    "\n",
    "\n",
    "MyClass.static_method()"
   ]
  }
 ],
 "metadata": {
  "kernelspec": {
   "display_name": "base",
   "language": "python",
   "name": "python3"
  },
  "language_info": {
   "codemirror_mode": {
    "name": "ipython",
    "version": 3
   },
   "file_extension": ".py",
   "mimetype": "text/x-python",
   "name": "python",
   "nbconvert_exporter": "python",
   "pygments_lexer": "ipython3",
   "version": "3.12.2"
  }
 },
 "nbformat": 4,
 "nbformat_minor": 2
}
